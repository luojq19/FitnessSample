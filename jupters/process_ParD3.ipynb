{
 "cells": [
  {
   "cell_type": "code",
   "execution_count": null,
   "metadata": {},
   "outputs": [],
   "source": [
    "import pandas as pd\n",
    "import os\n",
    "from Bio import SeqIO\n",
    "\n",
    "def mutate(wt_seq, mut_str):\n",
    "    muts = mut_str.split(':')\n",
    "    mut_aa = [muts_[-1] for muts_ in muts]\n",
    "    mut_pos = [int(muts_[1:-1]) for muts_ in muts]\n",
    "    orgin_aa = [muts_[0] for muts_ in muts]\n",
    "    wt_seq = list(wt_seq)\n",
    "    for i in range(len(mut_aa)):\n",
    "        assert wt_seq[mut_pos[i]] == orgin_aa[i]\n",
    "        wt_seq[mut_pos[i]] = mut_aa[i]\n",
    "        \n",
    "    return ''.join(wt_seq)\n",
    "\n",
    "def gen_mut_str(mut_seq, wt_seq, mut_pos=[60, 63, 79]):\n",
    "    mut_str = [f'{wt_seq[i]}{i}{mut_seq[i]}' for i in mut_pos]\n",
    "    # for i in range(len(mut_seq)):\n",
    "    #     if mut_seq[i] != wt_seq[i]:\n",
    "    #         mut_str.append(f'{wt_seq[i]}{i}{mut_seq[i]}')\n",
    "    return ':'.join(mut_str)\n",
    "\n",
    "raw_data_dir = '../data/ParD3/coevolution_mechanism/data/1raw_read_output/at_combo_lib'\n",
    "wt_record = SeqIO.parse('../data/ParD3/wt_seq.fasta', 'fasta')\n",
    "wt_seq = str(next(wt_record).seq)\n",
    "print(f'wt_seq: {wt_seq[60]}, {wt_seq[63]}, {wt_seq[79]}, {len(wt_seq)}')\n",
    "results = {}\n",
    "labels = []\n",
    "for root, dirs, files in os.walk(raw_data_dir):\n",
    "    for file in files:\n",
    "        if file.endswith('.csv'):\n",
    "            toxin = 'fit_' + file.split('.')[0][3:]\n",
    "            labels.append(toxin)\n",
    "            df = pd.read_csv(os.path.join(root, file))\n",
    "            # print(file, len(df))\n",
    "            df = df[(df['stop'] == False) & (df['full_mut'] != 'wtAT')]\n",
    "            print(file, len(df), len(set(df['full_mut'].tolist())))\n",
    "            mutants = df['full_mut'].tolist()\n",
    "            for mut in mutants:\n",
    "                assert '_' not in mut, mut\n",
    "            mut_seqs = [mutate(wt_seq, mut) for mut in mutants]\n",
    "            fitness = df['mean_fit'].tolist()\n",
    "            for i, seq in enumerate(mut_seqs):\n",
    "                assert len(seq) == len(wt_seq)\n",
    "                if seq not in results:\n",
    "                    results[seq] = {}\n",
    "                results[seq][toxin] = fitness[i]\n",
    "print(len(results), len(set(results.keys())))\n",
    "mut_sequences = list(results.keys())\n",
    "df_dict = {'sequence': mut_sequences, 'mut_str': [gen_mut_str(mut_seq, wt_seq) for mut_seq in mut_sequences]}\n",
    "for toxin in labels:\n",
    "    df_dict[toxin] = [results[mut_seq][toxin] for mut_seq in mut_sequences]\n",
    "save_df = pd.DataFrame(df_dict)\n",
    "save_df.to_csv('../data/ParD3/ground_truth_ParD3_raw.csv', index=False)\n"
   ]
  },
  {
   "cell_type": "code",
   "execution_count": null,
   "metadata": {},
   "outputs": [],
   "source": [
    "import matplotlib.pyplot as plt\n",
    "import seaborn as sns\n",
    "\n",
    "df = pd.read_csv('../data/ParD3/ground_truth_ParD3_raw.csv')\n",
    "fit_cols = [col for col in df.columns if col.startswith('fit_')]\n",
    "df_fit = df[fit_cols]\n",
    "corr = df_fit.corr()\n",
    "# Generate a heatmap\n",
    "plt.figure(figsize=(10, 8))\n",
    "sns.heatmap(corr, annot=True, cmap='coolwarm', vmin=-1, vmax=1, square=True, linewidths=0.5)\n",
    "plt.title('Correlation Heatmap for Columns Starting with \"fit\"')\n",
    "plt.gca().invert_yaxis()\n",
    "plt.show()"
   ]
  },
  {
   "cell_type": "code",
   "execution_count": null,
   "metadata": {},
   "outputs": [],
   "source": [
    "import matplotlib.pyplot as plt\n",
    "import seaborn as sns\n",
    "\n",
    "df = pd.read_csv('../data/ParD3/ground_truth_ParD3_normalized.csv')\n",
    "fit_cols = [col for col in df.columns if col.startswith('fit_')]\n",
    "df_fit = df[fit_cols]\n",
    "corr = df_fit.corr()\n",
    "# Generate a heatmap\n",
    "plt.figure(figsize=(10, 8))\n",
    "sns.heatmap(corr, annot=True, cmap='coolwarm', vmin=-1, vmax=1, square=True, linewidths=0.5)\n",
    "plt.title('Correlation Heatmap for Columns Starting with \"fit\"')\n",
    "plt.gca().invert_yaxis()\n",
    "plt.show()"
   ]
  },
  {
   "cell_type": "code",
   "execution_count": null,
   "metadata": {},
   "outputs": [],
   "source": [
    "results = {}\n",
    "labels = []\n",
    "for root, dirs, files in os.walk(raw_data_dir):\n",
    "    for file in files:\n",
    "        if file.endswith('.csv'):\n",
    "            toxin = 'fit_' + file.split('.')[0][3:]\n",
    "            labels.append(toxin)\n",
    "            df = pd.read_csv(os.path.join(root, file))\n",
    "            # print(file, len(df))\n",
    "            non_stop_df = df[(df['stop'] == False) & (df['full_mut'] != 'wtAT')]\n",
    "            print(file, len(non_stop_df), len(set(non_stop_df['full_mut'].tolist())))\n",
    "            mutants = non_stop_df['full_mut'].tolist()\n",
    "            for mut in mutants:\n",
    "                assert '_' not in mut, mut\n",
    "            mut_seqs = [mutate(wt_seq, mut) for mut in mutants]\n",
    "            fitness = non_stop_df['mean_fit'].values\n",
    "            if toxin == 'fit_E2':\n",
    "                max_fit = non_stop_df[non_stop_df['full_mut'] == 'D60I:K63L:E79K']['mean_fit'].values[0]\n",
    "            else:\n",
    "                max_fit = non_stop_df[non_stop_df['full_mut'] == 'D60D:K63K:E79E']['mean_fit'].values[0]\n",
    "            min_fit = df[df['stop'] == True]['mean_fit'].values.mean()\n",
    "            fitness = (fitness - min_fit) / (max_fit - min_fit)\n",
    "            for i, seq in enumerate(mut_seqs):\n",
    "                assert len(seq) == len(wt_seq)\n",
    "                if seq not in results:\n",
    "                    results[seq] = {}\n",
    "                results[seq][toxin] = fitness[i]\n",
    "print(len(results), len(set(results.keys())))\n",
    "mut_sequences = list(results.keys())\n",
    "df_dict = {'sequence': mut_sequences, 'mut_str': [gen_mut_str(mut_seq, wt_seq) for mut_seq in mut_sequences]}\n",
    "for toxin in labels:\n",
    "    df_dict[toxin] = [results[mut_seq][toxin] for mut_seq in mut_sequences]\n",
    "save_df = pd.DataFrame(df_dict)\n",
    "save_df.to_csv('../data/ParD3/ground_truth_ParD3_normalized.csv', index=False)"
   ]
  },
  {
   "cell_type": "code",
   "execution_count": null,
   "metadata": {},
   "outputs": [],
   "source": [
    "df_kerr = pd.read_csv('/work/kerr/p450/mutation/results/ParD3/df_gt.csv')\n",
    "df_kerr = df_kerr[~df_kerr['full_mut'].str.contains('_')]\n",
    "df_norm = pd.read_csv('../data/ParD3/ground_truth_ParD3_normalized.csv')\n",
    "print(len(df_kerr), len(df_norm))\n",
    "print(set(df_kerr['full_mut'].tolist()) - set(df_norm['mut_str'].tolist()))\n",
    "# len(set(df_kerr['full_mut'].tolist()) - set(df_norm['mut_str'].tolist()))\n",
    "len(set(df_norm['mut_str'].tolist())), len(set(df_kerr['full_mut'].tolist()))\n",
    "df_kerr['full_mut'].tolist() == df_norm['mut_str'].tolist()\n",
    "\n",
    "toxins = []\n",
    "for root, dirs, files in os.walk(raw_data_dir):\n",
    "    for file in files:\n",
    "        if file.endswith('.csv'):\n",
    "            toxins.append(file.split('.')[0][3:])\n",
    "print(len(toxins))\n",
    "import numpy as np\n",
    "for toxin in toxins:\n",
    "    fit_kerr = df_kerr['Fitness_' + toxin].values\n",
    "    fit_norm = df_norm['fit_' + toxin].values\n",
    "    print(toxin, np.corrcoef(fit_kerr, fit_norm)[0, 1], np.max(np.abs(fit_kerr - fit_norm)))"
   ]
  },
  {
   "cell_type": "code",
   "execution_count": null,
   "metadata": {},
   "outputs": [],
   "source": [
    "import pandas as pd\n",
    "\n",
    "df = pd.read_csv('../data/ParD3/ground_truth_ParD3_normalized.csv')\n",
    "filtered_df = df[['sequence', 'fit_E3', 'fit_E2']]\n",
    "filtered_df.to_csv('../data/ParD3/ground_truth_ParD3_E3_E2.csv', index=False)"
   ]
  },
  {
   "cell_type": "code",
   "execution_count": 17,
   "metadata": {},
   "outputs": [
    {
     "name": "stdout",
     "output_type": "stream",
     "text": [
      "                                               sequence    fit_E3    fit_E2\n",
      "3597  MANVEKMSVAVTPQQAAVMREAVEAGEYATASEIVREAVRDWLAKR...  0.379471  0.062469\n"
     ]
    },
    {
     "name": "stdout",
     "output_type": "stream",
     "text": [
      "scores_E2_99percentile: 0.9661204216410992, scores_E3_99percentile: 0.9472715055277472\n",
      "score_E2_low: 0.09661204216410993, score_E2_high: 0.3864481686564397\n",
      "score_E3_low: 0.09472715055277472, score_E3_high: 0.3789086022110989\n",
      "2                                                sequence    fit_E3    fit_E2\n",
      "3597  MANVEKMSVAVTPQQAAVMREAVEAGEYATASEIVREAVRDWLAKR...  0.379471  0.062469\n",
      "                                               sequence    fit_E3    fit_E2\n",
      "3597  MANVEKMSVAVTPQQAAVMREAVEAGEYATASEIVREAVRDWLAKR...  0.379471  0.062469\n",
      "1321\n"
     ]
    }
   ],
   "source": [
    "import pandas as pd\n",
    "\n",
    "percentile_low, percentile_high = 0.1, 0.4\n",
    "df = pd.read_csv('../data/ParD3/ground_truth_ParD3_E3_E2.csv')\n",
    "print(df[df['sequence'] == 'MANVEKMSVAVTPQQAAVMREAVEAGEYATASEIVREAVRDWLAKRELRHDDIRRLRQLWKEGYASGRPEPVDFDALRKVARQKLTEVPPNGR'])\n",
    "input()\n",
    "scores_E3 = df['fit_E3'].tolist()\n",
    "scores_E2 = df['fit_E2'].tolist()\n",
    "scores_E2.sort()\n",
    "scores_E3.sort()\n",
    "score_E2_99percentile = scores_E2[int(len(scores_E2) * 0.99)]\n",
    "score_E3_99percentile = scores_E3[int(len(scores_E3) * 0.99)]\n",
    "print(f'scores_E2_99percentile: {score_E2_99percentile}, scores_E3_99percentile: {score_E3_99percentile}')\n",
    "score_E2_low = score_E2_99percentile * percentile_low\n",
    "score_E2_high = score_E2_99percentile * percentile_high\n",
    "score_E3_low = score_E3_99percentile * percentile_low\n",
    "score_E3_high = score_E3_99percentile * percentile_high\n",
    "print(f'score_E2_low: {score_E2_low}, score_E2_high: {score_E2_high}')\n",
    "print(f'score_E3_low: {score_E3_low}, score_E3_high: {score_E3_high}')\n",
    "print(2, df[df['sequence'] == 'MANVEKMSVAVTPQQAAVMREAVEAGEYATASEIVREAVRDWLAKRELRHDDIRRLRQLWKEGYASGRPEPVDFDALRKVARQKLTEVPPNGR'])\n",
    "input()\n",
    "# print((df['fit_E2'] >= score_E2_low) & (df['fit_E2'] <= score_E2_high) & (df['fit_E3'] >= score_E3_low) & (df['fit_E3'] <= score_E3_high))\n",
    "# filter_df = df[(df['fit_E2'] >= score_E2_low) & (df['fit_E2'] <= score_E2_high) & (df['fit_E3'] >= score_E3_low) & (df['fit_E3'] <= score_E3_high)].copy()\n",
    "# filter_df = filter_df.reset_index(drop=True)\n",
    "# # filter_df = df[(df['fit_E2'] >= score_E2_low) & (df['fit_E2'] <= score_E2_high)]\n",
    "# # print(len(df[(df['fit_E2'] >= score_E2_low) & (df['fit_E2'] <= score_E2_high)]), len(df[(df['fit_E3'] >= score_E3_low) & (df['fit_E3'] <= score_E3_high)]))\n",
    "# # print(len(df[(df['fit_E2'] >= score_E2_low) & (df['fit_E2'] <= score_E2_high) & (df['fit_E3'] >= score_E3_low) & (df['fit_E3'] <= score_E3_high)]))\n",
    "# print('filter_df:', len(filter_df))\n",
    "# print(filter_df)\n",
    "# print(len(filter_df))\n",
    "# print(filter_df['sequence'].tolist()[0])\n",
    "# filter_df.to_csv(f'../data/ParD3/E2_E3_percentile_{percentile_low}_{percentile_high}.csv', index=False)\n",
    "seqs = df['sequence'].tolist()\n",
    "fit_E3 = df['fit_E3'].tolist()\n",
    "fit_E2 = df['fit_E2'].tolist()\n",
    "print(df[df['sequence'] == 'MANVEKMSVAVTPQQAAVMREAVEAGEYATASEIVREAVRDWLAKRELRHDDIRRLRQLWKEGYASGRPEPVDFDALRKVARQKLTEVPPNGR'])\n",
    "filtered_seqs, filtered_fit_E3, filtered_fit_E2 = [], [], []\n",
    "for i in range(len(seqs)):\n",
    "    if fit_E3[i] >= score_E3_low and fit_E3[i] <= score_E3_high and fit_E2[i] >= score_E2_low and fit_E2[i] <= score_E2_high:\n",
    "        if seqs[i] == 'MANVEKMSVAVTPQQAAVMREAVEAGEYATASEIVREAVRDWLAKRELRHDDIRRLRQLWKEGYASGRPEPVDFDALRKVARQKLTEVPPNGR':\n",
    "            print(fit_E3[i], fit_E2[i])\n",
    "            input()\n",
    "        filtered_seqs.append(seqs[i])\n",
    "        filtered_fit_E3.append(fit_E3[i])\n",
    "        filtered_fit_E2.append(fit_E2[i])\n",
    "print(len(filtered_seqs))\n",
    "filtered_df = pd.DataFrame({'sequence': filtered_seqs, 'fit_E3': filtered_fit_E3, 'fit_E2': filtered_fit_E2})\n",
    "filtered_df.to_csv(f'../data/ParD3/E2_E3_percentile_{percentile_low}_{percentile_high}.csv', index=False)"
   ]
  },
  {
   "cell_type": "code",
   "execution_count": 5,
   "metadata": {},
   "outputs": [
    {
     "data": {
      "image/png": "[encoded data removed]",
      "text/plain": [
       "<Figure size 600x600 with 1 Axes>"
      ]
     },
     "metadata": {},
     "output_type": "display_data"
    }
   ],
   "source": [
    "import matplotlib.pyplot as plt\n",
    "import seaborn as sns\n",
    "import pandas as pd\n",
    "\n",
    "def load_metric_point_label(csv_path, label):\n",
    "    df = pd.read_csv(csv_path)\n",
    "    metrics = df['mean'].values[:2]\n",
    "    x = metrics[0]\n",
    "    y = metrics[1]\n",
    "    \n",
    "    return x, y, label\n",
    "\n",
    "E3_E2_labels = []\n",
    "csv_path_label = [[]]\n",
    "for csv_path, label in csv_path_label:\n",
    "    E3_E2_labels.append(load_metric_point_label(csv_path, label))\n",
    "# E3_E2_labels.append(load_metric_point_label('../logs_new/GWG_2_E3_E2_2023_10_07__22_51_34_debug/samples_20231007-225134/evaluation_metrics.csv', 'lambda_1.0'))\n",
    "# E3_E2_labels.append(load_metric_point_label('../logs_new/GWG_2_E3_E2_2023_10_07__22_57_59_lambda2.0/samples_20231007-225759/evaluation_metrics.csv', 'lambda_2.0'))\n",
    "# E3_E2_labels.append(load_metric_point_label('../logs_new/GWG_2_E3_E2_2023_10_07__23_00_12_lambda3.0/samples_20231007-230012/evaluation_metrics.csv', 'lambda_3.0'))\n",
    "# E3_E2_labels.append(load_metric_point_label('../logs_new/GWG_2_E3_E2_2023_10_07__23_03_58_lambda5.0/samples_20231007-230358/evaluation_metrics.csv', 'lambda_5.0'))\n",
    "# E3_E2_labels.append(load_metric_point_label('../logs_new/GWG_2_E3_E2_2023_10_07__23_05_51_lambda10.0/samples_20231007-230551/evaluation_metrics.csv', 'lambda_10.0'))\n",
    "# E3_E2_labels.append(load_metric_point_label('../logs_new/GWG_2_E3_E2_2023_10_07__23_07_33_lambda0.5/samples_20231007-230733/evaluation_metrics.csv', 'lambda_0.5'))\n",
    "# E3_E2_labels.append(load_metric_point_label('../logs_new/GWG_2_E3_E2_2023_10_07__23_10_57_lambda0.1/samples_20231007-231057/evaluation_metrics.csv', 'lambda_0.1'))\n",
    "# E3_E2_labels.append(load_metric_point_label('../logs_new/GWG_2_E3_E2_2023_10_07__23_15_24_average/samples_20231007-231524/evaluation_metrics.csv', 'average'))\n",
    "# E3_E2_labels.append(load_metric_point_label('../logs_new/train_predictor_E2_0.1_0.4_2023_10_07__22_43_47_augment/samples_20231007-224624/evaluation_metrics.csv', 'GWG_E2'))\n",
    "# E3_E2_labels.append(load_metric_point_label('../logs_new/train_predictor_E3_0.1_0.4_2023_10_07__22_43_44_augment/samples_20231007-224622/evaluation_metrics.csv', 'GWG_E3'))\n",
    "# E3_E2_labels.append(load_metric_point_label('../logs_new/GWG_2_E3_E2_2023_10_07__23_43_23_lambda0.0/samples_20231007-234323/evaluation_metrics.csv', 'lambda_0.0'))\n",
    "E3, E2, labels = zip(*E3_E2_labels)\n",
    "\n",
    "plt.figure(figsize=(6, 6), dpi=100)\n",
    "plt.scatter(E3, E2, c='r', marker='o', s=100)\n",
    "for i in range(len(labels)):\n",
    "    plt.annotate(labels[i], (E3[i], E2[i]), xytext=(E3[i], E2[i]+0.01))\n",
    "plt.xlabel('Fitness_E3')\n",
    "plt.ylabel('Fitness_E2')\n",
    "plt.title('Fitness_E3 vs. Fitness_E2')\n",
    "plt.show()\n"
   ]
  },
  {
   "cell_type": "code",
   "execution_count": 9,
   "metadata": {},
   "outputs": [
    {
     "data": {
      "image/png": "[encoded data removed]",
      "text/plain": [
       "<Figure size 640x480 with 1 Axes>"
      ]
     },
     "metadata": {},
     "output_type": "display_data"
    }
   ],
   "source": [
    "import pandas as pd\n",
    "import numpy as np\n",
    "import matplotlib.pyplot as plt\n",
    "\n",
    "df  = pd.read_csv('../logs_pref_vec/GWG_2_E3_E2_pref_vec_2023_10_12__16_24_22_pref_index_0/samples_20231012-162422/evaluation_results.csv')\n",
    "ddg = df['fit_E3'].values\n",
    "gfp = df['fit_E2'].values\n",
    "\n",
    "df2 = pd.read_csv('/work/jiaqi/FitnessSample/logs_pref_vec/GWG_2_E3_E2_pref_vec_2023_10_12__16_44_55_pref_index_4/samples_20231012-164455/evaluation_results.csv')\n",
    "ddg2 = df2['fit_E3'].values\n",
    "gfp2 = df2['fit_E2'].values\n",
    "\n",
    "df3 = pd.read_csv('../logs_pref_vec/GWG_2_E3_E2_pref_vec_2023_10_12__16_44_30_pref_index_1/samples_20231012-164430/evaluation_results.csv')\n",
    "ddg3 = df3['fit_E3'].values\n",
    "gfp3 = df3['fit_E2'].values\n",
    "# df3 = pd.read_csv('../logs_new/GWG_2_2023_10_03__10_02_12_weight_1.8_0.2/samples_20231003-100212/evaluation_results_nested_selection.csv')\n",
    "# ddg3 = df3['stability_normalized'].values\n",
    "# gfp3 = df3['GFP_normalized'].values\n",
    "plt.scatter(ddg, gfp, c='red')\n",
    "plt.scatter(ddg2, gfp2, c='blue')\n",
    "plt.scatter(ddg3, gfp3, c='green')\n",
    "plt.show()\n"
   ]
  },
  {
   "cell_type": "code",
   "execution_count": 5,
   "metadata": {},
   "outputs": [
    {
     "name": "stdout",
     "output_type": "stream",
     "text": [
      "3888 1321\n",
      "3888\n"
     ]
    }
   ],
   "source": [
    "import pandas as pd\n",
    "\n",
    "df = pd.read_csv('../logs_new/GWG_2_gb1_ddg_pref_vec_2023_10_11__11_10_07_pref_index_4/samples_20231011-111007/seed_1.csv')\n",
    "mut_seqs = df['mutant_sequences'].tolist()\n",
    "gt_df = pd.read_csv('../data/ParD3/E2_E3_percentile_0.1_0.4.csv')\n",
    "gt_seqs = gt_df['sequence'].tolist()\n",
    "print(len(set(mut_seqs)), len(set(gt_seqs)))\n",
    "print(len(set(mut_seqs) - set(gt_seqs)))"
   ]
  },
  {
   "cell_type": "code",
   "execution_count": 3,
   "metadata": {},
   "outputs": [
    {
     "data": {
      "text/plain": [
       "array([0.   , 0.125, 0.25 , 0.375, 0.5  ])"
      ]
     },
     "execution_count": 3,
     "metadata": {},
     "output_type": "execute_result"
    }
   ],
   "source": [
    "import numpy as np\n",
    "\n",
    "np.cos(0.1 * np.pi), np.sin(0.1 * np.pi)\n",
    "t = np.linspace(0, 0.5, 5)\n",
    "t"
   ]
  },
  {
   "cell_type": "code",
   "execution_count": 6,
   "metadata": {},
   "outputs": [
    {
     "name": "stdout",
     "output_type": "stream",
     "text": [
      "weight: tensor([[[2]],\n",
      "\n",
      "        [[3]]])\n",
      "data: tensor([[[ 0,  1],\n",
      "         [ 2,  3],\n",
      "         [ 4,  5]],\n",
      "\n",
      "        [[ 6,  7],\n",
      "         [ 8,  9],\n",
      "         [10, 11]]])\n"
     ]
    },
    {
     "data": {
      "text/plain": [
       "tensor([[[ 0,  2],\n",
       "         [ 4,  6],\n",
       "         [ 8, 10]],\n",
       "\n",
       "        [[18, 21],\n",
       "         [24, 27],\n",
       "         [30, 33]]])"
      ]
     },
     "execution_count": 6,
     "metadata": {},
     "output_type": "execute_result"
    }
   ],
   "source": [
    "import torch\n",
    "\n",
    "weight = torch.tensor([2, 3]).unsqueeze(-1).unsqueeze(-1)\n",
    "print(f'weight: {weight}')\n",
    "data = torch.arange(12).reshape((2,3,2))\n",
    "print(f'data: {data}')\n",
    "weight * data"
   ]
  },
  {
   "cell_type": "code",
   "execution_count": 9,
   "metadata": {},
   "outputs": [
    {
     "name": "stdout",
     "output_type": "stream",
     "text": [
      "num of mutations sites: 233\n",
      "16 1 4.864642753553127 1.8515980501603135\n"
     ]
    }
   ],
   "source": [
    "import pandas as pd\n",
    "import numpy as np\n",
    "import matplotlib.pyplot as plt\n",
    "import seaborn as sns\n",
    "def edit_dist(seq1, seq2):\n",
    "    assert len(seq1) == len(seq2)\n",
    "    dist = 0\n",
    "    for i in range(len(seq1)):\n",
    "        if seq1[i] != seq2[i]:\n",
    "            dist += 1\n",
    "    return dist\n",
    "\n",
    "def mutation_sites(wt_seq, mut_seq):\n",
    "    assert len(wt_seq) == len(mut_seq)\n",
    "    sites = []\n",
    "    for i in range(len(wt_seq)):\n",
    "        if wt_seq[i] != mut_seq[i]:\n",
    "            sites.append(i)\n",
    "    return set(sites)\n",
    "\n",
    "df  = pd.read_csv('/work/jiaqi/FitnessSample/data/ground_truth_GFP_stability.csv')\n",
    "seqs = df['sequence'].tolist()\n",
    "\n",
    "# df = pd.read_csv('/work/jiaqi/FitnessSample/logs_new/GWG_2_2023_09_30__16_13_27/samples_20230930-161327/seed_1.csv')\n",
    "# seqs = df['mutant_sequences'].tolist()\n",
    "wt_seq = 'SKGEELFTGVVPILVELDGDVNGHKFSVSGEGEGDATYGKLTLKFICTTGKLPVPWPTLVTTFSYGVQCFSRYPDHMKQHDFFKSAMPEGYVQERTIFFKDDGNYKTRAEVKFEGDTLVNRIELKGIDFKEDGNILGHKLEYNYNSHNVYIMADKQKNGIKVNFKIRHNIEDGSVQLADHYQQNTPIGDGPVLLPDNHYLSTQSALSKDPNEKRDHMVLLEFVTAAGITHGMDELYK'\n",
    "num_mutations = [edit_dist(wt_seq, seq) for seq in seqs]\n",
    "mutation_sites = set().union(*[mutation_sites(wt_seq, seq) for seq in seqs])\n",
    "print(f'num of mutations sites: {len(mutation_sites)}')\n",
    "print(max(num_mutations), min(num_mutations), np.mean(num_mutations), np.std(num_mutations))\n",
    "# sns.histplot(num_mutations, kde=True)"
   ]
  },
  {
   "cell_type": "code",
   "execution_count": 8,
   "metadata": {},
   "outputs": [
    {
     "name": "stdout",
     "output_type": "stream",
     "text": [
      "num of unique sequences: 3284\n"
     ]
    },
    {
     "name": "stderr",
     "output_type": "stream",
     "text": [
      "100%|██████████| 3284/3284 [00:00<00:00, 296306.29it/s]"
     ]
    },
    {
     "name": "stdout",
     "output_type": "stream",
     "text": [
      "pareto selection done! Selected 15 sequences. Time elapsed: 0.04 seconds.\n"
     ]
    },
    {
     "name": "stderr",
     "output_type": "stream",
     "text": [
      "\n"
     ]
    }
   ],
   "source": [
    "import time\n",
    "import pandas as pd\n",
    "from tqdm import tqdm\n",
    "\n",
    "def pareto_selection(csv_path, num_select=100, inverse_sign_1=False, inverse_sign_2=False):\n",
    "    '''by default, the objectives should be maximized'''\n",
    "    start = time.time()\n",
    "    df = pd.read_csv(csv_path)\n",
    "    seq_column = 'mutant_sequences' if 'mutant_sequences' in df.columns else 'sequence'\n",
    "    df = df.drop_duplicates(subset=[seq_column])\n",
    "    print(f'num of unique sequences: {len(df)}')\n",
    "    all_seqs = df[seq_column].tolist()\n",
    "    scores_1 = df['mutant_scores_1'].values if not inverse_sign_1 else -df['mutant_scores_1'].values\n",
    "    scores_2 = df['mutant_scores_2'].values if not inverse_sign_2 else -df['mutant_scores_2'].values\n",
    "    selected_idxs = []\n",
    "    n = len(df)\n",
    "    for i in tqdm(range(n)):\n",
    "        if i in selected_idxs:\n",
    "            continue\n",
    "        dominated = False\n",
    "        for j in range(n):\n",
    "            if i == j:\n",
    "                continue\n",
    "            if scores_1[i] <= scores_1[j] and scores_2[i] <= scores_2[j] and (scores_1[i] < scores_1[j] or scores_2[i] < scores_2[j]):\n",
    "                dominated = True\n",
    "                break\n",
    "        if not dominated:\n",
    "            selected_idxs.append(i)\n",
    "    selected_seqs = [all_seqs[i] for i in selected_idxs]\n",
    "    end = time.time()\n",
    "    print(f'pareto selection done! Selected {len(selected_seqs)} sequences. Time elapsed: {end-start:.2f} seconds.')\n",
    "    \n",
    "    return selected_seqs\n",
    "\n",
    "selected_seqs = pareto_selection(csv_path='/work/jiaqi/FitnessSample/logs_new/GWG_2_gb1_ddg_2023_10_05__21_58_09_debug/samples_20231005-215809/seed_1.csv', \n",
    "                 inverse_sign_1=True, inverse_sign_2=False)"
   ]
  },
  {
   "cell_type": "code",
   "execution_count": null,
   "metadata": {},
   "outputs": [],
   "source": []
  }
 ],
 "metadata": {
  "kernelspec": {
   "display_name": "pytorch",
   "language": "python",
   "name": "python3"
  },
  "language_info": {
   "codemirror_mode": {
    "name": "ipython",
    "version": 3
   },
   "file_extension": ".py",
   "mimetype": "text/x-python",
   "name": "python",
   "nbconvert_exporter": "python",
   "pygments_lexer": "ipython3",
   "version": "3.8.17"
  },
  "orig_nbformat": 4
 },
 "nbformat": 4,
 "nbformat_minor": 2
}
