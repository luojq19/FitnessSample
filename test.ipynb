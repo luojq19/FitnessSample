{
 "cells": [
  {
   "cell_type": "code",
   "execution_count": 2,
   "metadata": {},
   "outputs": [
    {
     "name": "stdout",
     "output_type": "stream",
     "text": [
      "51715\n",
      "6.937420653990029 5.13316 6.097257342023598 68.6938 -6.57776\n"
     ]
    }
   ],
   "source": [
    "import pandas as pd\n",
    "import numpy as np\n",
    "# df = pandas.read_csv('data/stability/stability_foldx_deduplicate_af2.csv')\n",
    "# df_sample = df.sample(frac=0.05)\n",
    "# df_sample.to_csv('data/stability/base_seq.csv', index=False)\n",
    "df = pd.read_csv('data/stability/stability_foldx_deduplicate_af2.csv')\n",
    "targets = df['target'].tolist()\n",
    "print(len(targets))\n",
    "print(np.mean(targets), np.median(targets), np.std(targets), np.max(targets), np.min(targets))"
   ]
  },
  {
   "cell_type": "code",
   "execution_count": 2,
   "metadata": {},
   "outputs": [
    {
     "name": "stdout",
     "output_type": "stream",
     "text": [
      "51715\n",
      "0.0\n"
     ]
    }
   ],
   "source": [
    "import pandas as pd\n",
    "\n",
    "def percentage_rank(nums, t):\n",
    "    sorted_nums = sorted(nums)\n",
    "    count = len(sorted_nums)\n",
    "    \n",
    "    if count == 0:\n",
    "        return None  # Return None if the list is empty\n",
    "    \n",
    "    for i, num in enumerate(sorted_nums):\n",
    "        if num >= t:\n",
    "            return (i / count) * 100\n",
    "    \n",
    "    return 100\n",
    "\n",
    "df = pd.read_csv('data/GFP/GFP_ground_truth_deduplicate.csv')\n",
    "print(len(df))\n",
    "ground_truth = df['target'].tolist()\n",
    "print(percentage_rank(ground_truth, 0.885))"
   ]
  },
  {
   "cell_type": "code",
   "execution_count": 8,
   "metadata": {},
   "outputs": [
    {
     "name": "stdout",
     "output_type": "stream",
     "text": [
      "6030 6030\n",
      "-6.033896246386899 -5.209601163864136 6.109821230206091 8.930315971374512 -33.99614334106445\n",
      "-4.8911519326788575 -4.492574214935303 5.077473911936948 8.930315971374512 -24.50808334350586\n"
     ]
    },
    {
     "data": {
      "text/plain": [
       "4332"
      ]
     },
     "execution_count": 8,
     "metadata": {},
     "output_type": "execute_result"
    }
   ],
   "source": [
    "df = pd.read_csv('logs/train_smooth_stability_2023_09_11__14_44_27/samples/seed_1.csv')\n",
    "source_scores = df['source_scores'].values\n",
    "mutant_scores = df['mutant_scores'].values\n",
    "print(len(source_scores), len(mutant_scores))\n",
    "print(np.mean(source_scores), np.median(source_scores), np.std(source_scores), np.max(source_scores), np.min(source_scores))\n",
    "print(np.mean(mutant_scores), np.median(mutant_scores), np.std(mutant_scores), np.max(mutant_scores), np.min(mutant_scores))\n",
    "(source_scores < mutant_scores).sum()"
   ]
  },
  {
   "cell_type": "code",
   "execution_count": 12,
   "metadata": {},
   "outputs": [
    {
     "name": "stdout",
     "output_type": "stream",
     "text": [
      "12.4387431953125 10.735 7.116190567531272\n",
      "7.047552078538283 5.109565 6.365921413549166\n"
     ]
    }
   ],
   "source": [
    "df = pd.read_csv('logs/train_smooth_stability_2023_09_11__14_44_27/samples_20230913-144759/foldx_results.csv')\n",
    "scores = df['ddg'].values\n",
    "gt_csv = pd.read_csv('data/stability/base_seq.csv')\n",
    "gt_scores = gt_csv['target'].values\n",
    "print(np.mean(scores), np.median(scores), np.std(scores))\n",
    "print(np.mean(gt_scores), np.median(gt_scores), np.std(gt_scores))"
   ]
  },
  {
   "cell_type": "code",
   "execution_count": 1,
   "metadata": {},
   "outputs": [
    {
     "data": {
      "text/plain": [
       "[2, 3]"
      ]
     },
     "execution_count": 1,
     "metadata": {},
     "output_type": "execute_result"
    }
   ],
   "source": [
    "x = 'abcd'\n",
    "y = 'abde'\n",
    "mut_site_indices = [i for i, aa in enumerate(y) if aa!= x[i]]\n",
    "mut_site_indices"
   ]
  },
  {
   "cell_type": "code",
   "execution_count": 1,
   "metadata": {},
   "outputs": [
    {
     "name": "stdout",
     "output_type": "stream",
     "text": [
      "0\n"
     ]
    }
   ],
   "source": [
    "import pandas as pd\n",
    "\n",
    "sampled_data = pd.read_csv('logs/train_predictor_stability_2023_09_14__11_28_34_augment/samples_20230914-114542/foldx_results.csv')\n",
    "sampleds_seqs = set(sampled_data['sequence'].tolist())\n",
    "gt_data = pd.read_csv('data/stability/stability_foldx_deduplicate_af2.csv')\n",
    "gt_seqs = set(gt_data['sequence'].tolist())\n",
    "\n",
    "print(len(sampleds_seqs.intersection(gt_seqs)))"
   ]
  },
  {
   "cell_type": "code",
   "execution_count": 1,
   "metadata": {},
   "outputs": [],
   "source": [
    "import pandas as pd\n",
    "\n",
    "df = pd.read_csv('logs/GWG_2_2023_09_20__09_52_33_pareto/samples_20230920-095233/seed_1.csv')\n",
    "df['source_scores'] = df['source_scores_1']\n",
    "df['mutant_scores'] = df['mutant_scores_1']\n",
    "df.to_csv('logs/GWG_2_2023_09_20__09_52_33_pareto/samples_20230920-095233/seed_1_fill_stability.csv')\n",
    "df['source_scores'] = df['source_scores_2']\n",
    "df['mutant_scores'] = df['mutant_scores_2']\n",
    "df.to_csv('logs/GWG_2_2023_09_20__09_52_33_pareto/samples_20230920-095233/seed_1_fill_GFP.csv')"
   ]
  },
  {
   "cell_type": "code",
   "execution_count": 6,
   "metadata": {},
   "outputs": [],
   "source": [
    "df['source_scores'] = df['source_scores_2']\n",
    "df['mutant_scores'] = df['mutant_scores_2']"
   ]
  },
  {
   "cell_type": "code",
   "execution_count": 7,
   "metadata": {},
   "outputs": [
    {
     "data": {
      "text/html": [
       "<div>\n",
       "<style scoped>\n",
       "    .dataframe tbody tr th:only-of-type {\n",
       "        vertical-align: middle;\n",
       "    }\n",
       "\n",
       "    .dataframe tbody tr th {\n",
       "        vertical-align: top;\n",
       "    }\n",
       "\n",
       "    .dataframe thead th {\n",
       "        text-align: right;\n",
       "    }\n",
       "</style>\n",
       "<table border=\"1\" class=\"dataframe\">\n",
       "  <thead>\n",
       "    <tr style=\"text-align: right;\">\n",
       "      <th></th>\n",
       "      <th>source_sequences</th>\n",
       "      <th>mutant_sequences</th>\n",
       "      <th>source_scores</th>\n",
       "      <th>mutant_scores</th>\n",
       "      <th>epoch</th>\n",
       "      <th>mutant_scores_1</th>\n",
       "      <th>mutant_scores_2</th>\n",
       "      <th>source_scores_1</th>\n",
       "      <th>source_scores_2</th>\n",
       "    </tr>\n",
       "  </thead>\n",
       "  <tbody>\n",
       "    <tr>\n",
       "      <th>0</th>\n",
       "      <td>SKGEELFTGVVPILVELDGDVNGHKFSVSGEGEGDTTYGKLTLKFI...</td>\n",
       "      <td>SKGEELFTGVVPILVELDGDVNGHKFSVSGEGEGDTTYGKLTLKFI...</td>\n",
       "      <td>0.794316</td>\n",
       "      <td>0.703079</td>\n",
       "      <td>1.0</td>\n",
       "      <td>-21.623791</td>\n",
       "      <td>0.703079</td>\n",
       "      <td>-25.918085</td>\n",
       "      <td>0.794316</td>\n",
       "    </tr>\n",
       "    <tr>\n",
       "      <th>1</th>\n",
       "      <td>SKGEELFTGVVPILVELDGDVNGHKFSVSGEGEGDTTYRKLTLKFI...</td>\n",
       "      <td>SKGEELFTGVVPILVELDGDVNGHKFSVSGEGEGDTTYGKLTLKFI...</td>\n",
       "      <td>0.747767</td>\n",
       "      <td>0.910946</td>\n",
       "      <td>1.0</td>\n",
       "      <td>-8.761676</td>\n",
       "      <td>0.910946</td>\n",
       "      <td>-16.878666</td>\n",
       "      <td>0.747767</td>\n",
       "    </tr>\n",
       "    <tr>\n",
       "      <th>2</th>\n",
       "      <td>SKGEELFTGVVPILVELDGDVNGHKFSVSGEGEGDTTYGKLTLKFT...</td>\n",
       "      <td>SKGEELFTGVVPILVELDGDVNGHKFSVSGEGEGDTTYGKLTLKFT...</td>\n",
       "      <td>0.764884</td>\n",
       "      <td>0.900708</td>\n",
       "      <td>1.0</td>\n",
       "      <td>-17.847965</td>\n",
       "      <td>0.900708</td>\n",
       "      <td>-25.913685</td>\n",
       "      <td>0.764884</td>\n",
       "    </tr>\n",
       "    <tr>\n",
       "      <th>3</th>\n",
       "      <td>SKGEELFTGVVPILVELDGDVNGHKFSVSGEGEGDATYGKLTLKFI...</td>\n",
       "      <td>SKGEELFTGVVPILVELDGDVNGHKFSVSGEGEGDATYGKLTLKFI...</td>\n",
       "      <td>0.975110</td>\n",
       "      <td>0.805776</td>\n",
       "      <td>1.0</td>\n",
       "      <td>-17.901964</td>\n",
       "      <td>0.805776</td>\n",
       "      <td>-27.369392</td>\n",
       "      <td>0.975110</td>\n",
       "    </tr>\n",
       "    <tr>\n",
       "      <th>4</th>\n",
       "      <td>SKGEELFTGVVPILVELDGDVNGHKFSVSGEGEGDATYGKLTLKFI...</td>\n",
       "      <td>SKGEELFTGVVPILVELDGDVNGHKFSVSGEGEGDATYGKLTLKFI...</td>\n",
       "      <td>0.826322</td>\n",
       "      <td>0.815473</td>\n",
       "      <td>1.0</td>\n",
       "      <td>-10.890280</td>\n",
       "      <td>0.815473</td>\n",
       "      <td>-20.575684</td>\n",
       "      <td>0.826322</td>\n",
       "    </tr>\n",
       "    <tr>\n",
       "      <th>...</th>\n",
       "      <td>...</td>\n",
       "      <td>...</td>\n",
       "      <td>...</td>\n",
       "      <td>...</td>\n",
       "      <td>...</td>\n",
       "      <td>...</td>\n",
       "      <td>...</td>\n",
       "      <td>...</td>\n",
       "      <td>...</td>\n",
       "    </tr>\n",
       "    <tr>\n",
       "      <th>5885</th>\n",
       "      <td>SKGEELFTGVVPILVELDGDVNGHKFRVSGEGEGDATYGKLTLKFI...</td>\n",
       "      <td>SKGEELFTGVVPILVELDGDVNGHKFRVSGEGEGDATYGKLTLKFI...</td>\n",
       "      <td>1.336768</td>\n",
       "      <td>1.494279</td>\n",
       "      <td>15.0</td>\n",
       "      <td>0.285738</td>\n",
       "      <td>1.494279</td>\n",
       "      <td>-1.182695</td>\n",
       "      <td>1.336768</td>\n",
       "    </tr>\n",
       "    <tr>\n",
       "      <th>5886</th>\n",
       "      <td>SKGEELFTGVVPILVELDGDVNGHKFSVSGEGEGDATYGKLTLKFI...</td>\n",
       "      <td>SKGEELFTGVVPILVELDGDVNGHKFSVSGEGEGDATYGKLTLKFI...</td>\n",
       "      <td>1.480218</td>\n",
       "      <td>1.418220</td>\n",
       "      <td>15.0</td>\n",
       "      <td>1.127262</td>\n",
       "      <td>1.418220</td>\n",
       "      <td>0.788330</td>\n",
       "      <td>1.480218</td>\n",
       "    </tr>\n",
       "    <tr>\n",
       "      <th>5887</th>\n",
       "      <td>SKGEELFTGVVPILVELDGDVNGHKFSVSGEGEGDATMGKLTLKFI...</td>\n",
       "      <td>SKGEELFTGVVPILVELDGDVNGHKFSVSGEGEGDATMGKLTLKFI...</td>\n",
       "      <td>1.286124</td>\n",
       "      <td>1.354572</td>\n",
       "      <td>15.0</td>\n",
       "      <td>0.140837</td>\n",
       "      <td>1.354572</td>\n",
       "      <td>-0.914065</td>\n",
       "      <td>1.286124</td>\n",
       "    </tr>\n",
       "    <tr>\n",
       "      <th>5888</th>\n",
       "      <td>SKGEELFTGAVPILVKLDGDVNGHKFSVSGEGEGDATYGKLTLKFI...</td>\n",
       "      <td>SKGEELFTGAVPILVKLDGDVNGHKFSVSGEGEGDATYGKLTLKFI...</td>\n",
       "      <td>1.650462</td>\n",
       "      <td>1.425997</td>\n",
       "      <td>15.0</td>\n",
       "      <td>-2.681090</td>\n",
       "      <td>1.425997</td>\n",
       "      <td>-1.405253</td>\n",
       "      <td>1.650462</td>\n",
       "    </tr>\n",
       "    <tr>\n",
       "      <th>5889</th>\n",
       "      <td>SKGEELFTGIVPILVELDGDVNGHKFSVSGEGEGDATYGRLTLRFI...</td>\n",
       "      <td>SKGEELFTGIVPILVELDGDVNGHKFSVSGEGEGDATYGRLTLRFI...</td>\n",
       "      <td>1.240468</td>\n",
       "      <td>1.253037</td>\n",
       "      <td>15.0</td>\n",
       "      <td>-3.207189</td>\n",
       "      <td>1.253037</td>\n",
       "      <td>-4.429620</td>\n",
       "      <td>1.240468</td>\n",
       "    </tr>\n",
       "  </tbody>\n",
       "</table>\n",
       "<p>5890 rows × 9 columns</p>\n",
       "</div>"
      ],
      "text/plain": [
       "                                       source_sequences  \\\n",
       "0     SKGEELFTGVVPILVELDGDVNGHKFSVSGEGEGDTTYGKLTLKFI...   \n",
       "1     SKGEELFTGVVPILVELDGDVNGHKFSVSGEGEGDTTYRKLTLKFI...   \n",
       "2     SKGEELFTGVVPILVELDGDVNGHKFSVSGEGEGDTTYGKLTLKFT...   \n",
       "3     SKGEELFTGVVPILVELDGDVNGHKFSVSGEGEGDATYGKLTLKFI...   \n",
       "4     SKGEELFTGVVPILVELDGDVNGHKFSVSGEGEGDATYGKLTLKFI...   \n",
       "...                                                 ...   \n",
       "5885  SKGEELFTGVVPILVELDGDVNGHKFRVSGEGEGDATYGKLTLKFI...   \n",
       "5886  SKGEELFTGVVPILVELDGDVNGHKFSVSGEGEGDATYGKLTLKFI...   \n",
       "5887  SKGEELFTGVVPILVELDGDVNGHKFSVSGEGEGDATMGKLTLKFI...   \n",
       "5888  SKGEELFTGAVPILVKLDGDVNGHKFSVSGEGEGDATYGKLTLKFI...   \n",
       "5889  SKGEELFTGIVPILVELDGDVNGHKFSVSGEGEGDATYGRLTLRFI...   \n",
       "\n",
       "                                       mutant_sequences  source_scores  \\\n",
       "0     SKGEELFTGVVPILVELDGDVNGHKFSVSGEGEGDTTYGKLTLKFI...       0.794316   \n",
       "1     SKGEELFTGVVPILVELDGDVNGHKFSVSGEGEGDTTYGKLTLKFI...       0.747767   \n",
       "2     SKGEELFTGVVPILVELDGDVNGHKFSVSGEGEGDTTYGKLTLKFT...       0.764884   \n",
       "3     SKGEELFTGVVPILVELDGDVNGHKFSVSGEGEGDATYGKLTLKFI...       0.975110   \n",
       "4     SKGEELFTGVVPILVELDGDVNGHKFSVSGEGEGDATYGKLTLKFI...       0.826322   \n",
       "...                                                 ...            ...   \n",
       "5885  SKGEELFTGVVPILVELDGDVNGHKFRVSGEGEGDATYGKLTLKFI...       1.336768   \n",
       "5886  SKGEELFTGVVPILVELDGDVNGHKFSVSGEGEGDATYGKLTLKFI...       1.480218   \n",
       "5887  SKGEELFTGVVPILVELDGDVNGHKFSVSGEGEGDATMGKLTLKFI...       1.286124   \n",
       "5888  SKGEELFTGAVPILVKLDGDVNGHKFSVSGEGEGDATYGKLTLKFI...       1.650462   \n",
       "5889  SKGEELFTGIVPILVELDGDVNGHKFSVSGEGEGDATYGRLTLRFI...       1.240468   \n",
       "\n",
       "      mutant_scores  epoch  mutant_scores_1  mutant_scores_2  source_scores_1  \\\n",
       "0          0.703079    1.0       -21.623791         0.703079       -25.918085   \n",
       "1          0.910946    1.0        -8.761676         0.910946       -16.878666   \n",
       "2          0.900708    1.0       -17.847965         0.900708       -25.913685   \n",
       "3          0.805776    1.0       -17.901964         0.805776       -27.369392   \n",
       "4          0.815473    1.0       -10.890280         0.815473       -20.575684   \n",
       "...             ...    ...              ...              ...              ...   \n",
       "5885       1.494279   15.0         0.285738         1.494279        -1.182695   \n",
       "5886       1.418220   15.0         1.127262         1.418220         0.788330   \n",
       "5887       1.354572   15.0         0.140837         1.354572        -0.914065   \n",
       "5888       1.425997   15.0        -2.681090         1.425997        -1.405253   \n",
       "5889       1.253037   15.0        -3.207189         1.253037        -4.429620   \n",
       "\n",
       "      source_scores_2  \n",
       "0            0.794316  \n",
       "1            0.747767  \n",
       "2            0.764884  \n",
       "3            0.975110  \n",
       "4            0.826322  \n",
       "...               ...  \n",
       "5885         1.336768  \n",
       "5886         1.480218  \n",
       "5887         1.286124  \n",
       "5888         1.650462  \n",
       "5889         1.240468  \n",
       "\n",
       "[5890 rows x 9 columns]"
      ]
     },
     "execution_count": 7,
     "metadata": {},
     "output_type": "execute_result"
    }
   ],
   "source": [
    "df"
   ]
  },
  {
   "cell_type": "code",
   "execution_count": 8,
   "metadata": {},
   "outputs": [],
   "source": [
    "df.to_csv('logs/GWG_2_2023_09_19__11_40_04/samples_20230919-114004/seed_1_fillin_2_GFP.csv')"
   ]
  },
  {
   "cell_type": "code",
   "execution_count": 8,
   "metadata": {},
   "outputs": [
    {
     "name": "stdout",
     "output_type": "stream",
     "text": [
      "dict_keys(['encoder.weight', 'encoder.bias', 'embedding.layer.weight', 'embedding.layer.bias', 'decoder.weight', 'decoder.bias'])\n"
     ]
    }
   ],
   "source": [
    "import torch\n",
    "\n",
    "ckpt = torch.load('logs/oracle_GFP_ggs/checkpoints/best_checkpoints.pt')\n",
    "print(ckpt.keys())\n",
    "# keys = list(ckpt.keys())\n",
    "# for key in keys:\n",
    "#     ckpt[key[10:]] = ckpt.pop(key)\n",
    "# print(ckpt.keys())\n",
    "# state_dict = ckpt['state_dict']\n",
    "# torch.save(ckpt, 'logs/oracle_GFP_ggs/checkpoints/best_checkpoints.pt')"
   ]
  },
  {
   "cell_type": "code",
   "execution_count": 10,
   "metadata": {},
   "outputs": [
    {
     "name": "stdout",
     "output_type": "stream",
     "text": [
      "{} <class 'dict'>\n"
     ]
    }
   ],
   "source": [
    "import json\n",
    "with open('data/foldx/cache.json') as f:\n",
    "    a = json.load(f)\n",
    "print(a, type(a))"
   ]
  },
  {
   "cell_type": "code",
   "execution_count": 11,
   "metadata": {},
   "outputs": [
    {
     "name": "stdout",
     "output_type": "stream",
     "text": [
      "(100, 2)\n",
      "HV 1.101409368920674\n",
      "HV 0.0\n"
     ]
    }
   ],
   "source": [
    "from pymoo.indicators.hv import HV\n",
    "import numpy as np\n",
    "from pymoo.problems import get_problem\n",
    "from pymoo.visualization.scatter import Scatter\n",
    "\n",
    "# The pareto front of a scaled zdt1 problem\n",
    "pf = get_problem(\"zdt1\").pareto_front()\n",
    "\n",
    "# The result found by an algorithm\n",
    "A = pf\n",
    "print(A.shape)\n",
    "# print(A)\n",
    "\n",
    "ref_point = np.array([1.2, 1.2])\n",
    "\n",
    "ind = HV(ref_point=ref_point)\n",
    "print(\"HV\", ind(A))\n",
    "print(\"HV\", ind(A * 10))"
   ]
  },
  {
   "cell_type": "code",
   "execution_count": 6,
   "metadata": {},
   "outputs": [],
   "source": [
    "import pandas as pd\n",
    "\n",
    "df_GFP = pd.read_csv('data/GFP/GFP_ground_truth_deduplicate.csv')\n",
    "df_stability = pd.read_csv('data/stability/stability_foldx_deduplicate_af2.csv')\n",
    "seqs_GFP = df_GFP['sequence'].tolist()\n",
    "seqs_stability = df_stability['sequence'].tolist()\n",
    "scores_GFP = df_GFP['target'].tolist()\n",
    "scores_stability = df_stability['target'].tolist()\n",
    "df = pd.DataFrame({'sequence': seqs_GFP, \n",
    "                   'GFP': scores_GFP,\n",
    "                   'stability': scores_stability})\n",
    "df.to_csv('data/ground_truth_GFP_stability.csv', index=False)"
   ]
  },
  {
   "cell_type": "code",
   "execution_count": 7,
   "metadata": {},
   "outputs": [
    {
     "name": "stdout",
     "output_type": "stream",
     "text": [
      "    seq  GFP  stability\n",
      "1  seq2 -0.5        1.5\n",
      "2  seq3 -1.5        2.5\n"
     ]
    }
   ],
   "source": [
    "import pandas as pd\n",
    "\n",
    "# Sample DataFrame\n",
    "df = pd.DataFrame({\n",
    "    'seq': ['seq1', 'seq2', 'seq3', 'seq4'],\n",
    "    'GFP': [1.5, -0.5, -1.5, 2.0],\n",
    "    'stability': [0.5, 1.5, 2.5, 0.5]\n",
    "})\n",
    "\n",
    "# Filtering rows\n",
    "filtered_df = df[(df['GFP'] < 0) & (df['stability'] > 1)]\n",
    "\n",
    "print(filtered_df)\n"
   ]
  },
  {
   "cell_type": "code",
   "execution_count": 12,
   "metadata": {},
   "outputs": [
    {
     "name": "stdout",
     "output_type": "stream",
     "text": [
      "FoldX --command=BuildModel --pdb-dir=data/foldx/outputs_af2 --pdb=ref_seq_af2_Repair.pdb --output-dir=tmp_foldx/tmp_2023-09-21_13-48-29 --mutant-file=tmp_foldx/tmp_2023-09-21_14-05-19/individual_list/individual_list_2.txt --numberOfRuns=2 --out-pdb=false --output-file=batch_2\n"
     ]
    }
   ],
   "source": [
    "import os\n",
    "\n",
    "def foldx_runner(batch_idx, pdb_dir, pdb_file, mut_file, out_dir, num_runs=5):\n",
    "    cmd = f'FoldX --command=BuildModel --pdb-dir={pdb_dir} --pdb={pdb_file} --output-dir={out_dir} --mutant-file={mut_file} --numberOfRuns={num_runs} --out-pdb=false --output-file=batch_{batch_idx}'\n",
    "    # os.system(cmd)\n",
    "    print(cmd)\n",
    "\n",
    "batch_idx = 2\n",
    "foldx_runner(batch_idx, 'data/foldx/outputs_af2', 'ref_seq_af2_Repair.pdb', f'tmp_foldx/tmp_2023-09-21_14-05-19/individual_list/individual_list_{batch_idx}.txt', 'tmp_foldx/tmp_2023-09-21_13-48-29', 2)"
   ]
  },
  {
   "cell_type": "code",
   "execution_count": 2,
   "metadata": {},
   "outputs": [
    {
     "name": "stdout",
     "output_type": "stream",
     "text": [
      "196762 237\n"
     ]
    }
   ],
   "source": [
    "import json\n",
    "\n",
    "with open('data/all_seqs_list.json') as f:\n",
    "    all_seqs_list = json.load(f)\n",
    "print(len(all_seqs_list), len(all_seqs_list[0]))"
   ]
  },
  {
   "cell_type": "code",
   "execution_count": 4,
   "metadata": {},
   "outputs": [
    {
     "name": "stdout",
     "output_type": "stream",
     "text": [
      "SKGEELFTGVVPILVELDGDVNGHKFSVSGEGEGDATYGKLTLKFICTTGKLPVPWPTLVTTFSYGVQCFSRYPDHMKQHDFFKSAMPEGYVQERTIFFKDDGNYKTRAEVKFEGDTLVNRIELKGIDFKEDGNILGHKLEYNYNSHNVYIMADKQKNGIKVNFKIRHNIEDGSVQLADHYQQNTPIGDGPVLLPDNHYLSTQSALSKDPNEKRDHMVLLEFVTAAGITHGMDELYK 237\n"
     ]
    }
   ],
   "source": [
    "from Bio import SeqIO\n",
    "\n",
    "records = SeqIO.parse('data/foldx/GFP_reference_seq_aa.fasta', 'fasta')\n",
    "ref_seq = str(next(records).seq)\n",
    "print(ref_seq, len(ref_seq))"
   ]
  },
  {
   "cell_type": "code",
   "execution_count": 7,
   "metadata": {},
   "outputs": [
    {
     "name": "stdout",
     "output_type": "stream",
     "text": [
      "['E16G;V28M;F63L;S64P;C69R;M77D;D81G;R95G;K106Q;D116G;I127H;N158D;N184D;H216R;L235P', 'F26L;F63L;Q68R;P74T;D128E;N158D;N197D', 'A36V;K44A;T49C;F63L;K130R;M152K;L193Q;M217T', 'F26K;F45T;F63L;D196V;S204F', 'D18G;F26L;L41K;F63L;D81G;F98M;K112M', 'K40R;F45L;F63L;Y73C;F83L;M87L;K112P;V162A;H198K;G227R', 'K25E;L43G;F63L;F70S;T107A;K112M;E114A;Y181N;D189G;N211H', 'F7S;S29P;F63L;D101W;H198M;E221G', 'D18A;F63L;T96A;F98L;R108N;A109V;K139E;M152T;K155R;D172G;E221G', 'G23D;K51E;F63L;H80R;I135V;L140R'] 196762\n"
     ]
    }
   ],
   "source": [
    "def sequence_differences(seq1, seq2):\n",
    "    if len(seq1) != len(seq2):\n",
    "        raise ValueError(\"Both sequences must be of the same length.\")\n",
    "    \n",
    "    differences = []\n",
    "    for i, (s1, s2) in enumerate(zip(seq1, seq2)):\n",
    "        if s1 != s2:\n",
    "            differences.append(f\"{s1}{i+1}{s2}\")\n",
    "    \n",
    "    differences = ';'.join(differences)\n",
    "    \n",
    "    return differences\n",
    "\n",
    "all_seqs_difference = [sequence_differences(ref_seq, seq) for seq in all_seqs_list]\n",
    "print(all_seqs_difference[:10], len(all_seqs_difference))"
   ]
  },
  {
   "cell_type": "code",
   "execution_count": 9,
   "metadata": {},
   "outputs": [
    {
     "name": "stdout",
     "output_type": "stream",
     "text": [
      "1721\n"
     ]
    }
   ],
   "source": [
    "import pandas as pd\n",
    "from tqdm.auto import tqdm\n",
    "\n",
    "starting = pd.read_csv('data/GFP_stability_percentile_0.4.csv').sequence.tolist()\n",
    "is_starting = [int(seq in starting) for seq in tqdm(all_seqs_list)]\n",
    "print(sum(is_starting))\n",
    "df = pd.DataFrame({'mutants': all_seqs_difference,\n",
    "                   'seq': all_seqs_list, \n",
    "                   'starting': is_starting})\n",
    "df.to_csv('data/GFP_stability_percentile_0.4_mutants.csv', index=False)"
   ]
  },
  {
   "cell_type": "code",
   "execution_count": 8,
   "metadata": {},
   "outputs": [
    {
     "name": "stdout",
     "output_type": "stream",
     "text": [
      "(256,) (256,)\n",
      "0.9997440325377546\n"
     ]
    },
    {
     "data": {
      "image/png": "[encoded data removed]",
      "text/plain": [
       "<Figure size 640x480 with 1 Axes>"
      ]
     },
     "metadata": {},
     "output_type": "display_data"
    }
   ],
   "source": [
    "import matplotlib.pyplot as plt\n",
    "import pandas as pd\n",
    "from utils.eval import calc_hypervolume\n",
    "import numpy as np\n",
    "wt_GFP = 2.555\n",
    "wt_GFP_normalized = 0.448\n",
    "df = pd.read_csv('logs/GWG_2_2023_09_21__13_20_28_pareto/samples_20230921-132028/evaluation_results_2topk.csv')\n",
    "scores1 = df['stability_normalized'].values\n",
    "scores2 = 1 - df['GFP_normalized'].values\n",
    "# scores1 = np.clip(scores1, 0, 1)\n",
    "# scores2 = np.clip(scores2, 0, 1)\n",
    "print(scores1.shape, scores2.shape)\n",
    "\n",
    "r1, r2 = 1.0, 1.0\n",
    "hv = calc_hypervolume(scores1, scores2, r1, r2)\n",
    "print(hv)\n",
    "plt.scatter(scores1, scores2, s=2)\n",
    "plt.scatter([r1], [r2], c='r', marker='x')\n",
    "plt.scatter([0], [1 - wt_GFP_normalized], c='r', marker='x')\n",
    "plt.title('pareto')\n",
    "plt.show()"
   ]
  },
  {
   "cell_type": "code",
   "execution_count": 20,
   "metadata": {},
   "outputs": [
    {
     "name": "stdout",
     "output_type": "stream",
     "text": [
      "0.75\n"
     ]
    }
   ],
   "source": [
    "print(calc_hypervolume([0, 0.5], [0.5, 0], 1, 1))"
   ]
  },
  {
   "cell_type": "code",
   "execution_count": 1,
   "metadata": {},
   "outputs": [
    {
     "data": {
      "text/plain": [
       "True"
      ]
     },
     "execution_count": 1,
     "metadata": {},
     "output_type": "execute_result"
    }
   ],
   "source": [
    "\"SKGEELFTGVVPILVGLDGDVNGHKFSMSGEGEGDATYGKLTLKFICTTGKLPVPWPTLVTTLPYGVQRFSRYPDHDKQHGFFKSAMPEGYVQEGTIFFKDDGNYQTRAEVKFEGGTLVNRIELKGHDFKEDGNILGHKLEYNYNSHNVYIMADKQKDGIKVNFKIRHNIEDGSVQLADHYQQDTPIGDGPVLLPDNHYLSTQSALSKDPNEKRDRMVLLEFVTAAGITHGMDEPYK\" == \"SKGEELFTGVVPILVGLDGDVNGHKFSMSGEGEGDATYGKLTLKFICTTGKLPVPWPTLVTTLPYGVQRFSRYPDHDKQHGFFKSAMPEGYVQEGTIFFKDDGNYQTRAEVKFEGGTLVNRIELKGHDFKEDGNILGHKLEYNYNSHNVYIMADKQKDGIKVNFKIRHNIEDGSVQLADHYQQDTPIGDGPVLLPDNHYLSTQSALSKDPNEKRDRMVLLEFVTAAGITHGMDEPYK\""
   ]
  },
  {
   "cell_type": "code",
   "execution_count": 15,
   "metadata": {},
   "outputs": [
    {
     "data": {
      "image/png": "[encoded data removed]",
      "text/plain": [
       "<Figure size 900x600 with 6 Axes>"
      ]
     },
     "metadata": {},
     "output_type": "display_data"
    }
   ],
   "source": [
    "import matplotlib.pyplot as plt\n",
    "import pandas as pd\n",
    "from utils.eval import calc_hypervolume\n",
    "\n",
    "wt_GFP = 2.555\n",
    "wt_GFP_normalized = 0.448\n",
    "\n",
    "def draw_scatter_plot(csv_path, axs, title):\n",
    "    df = pd.read_csv(csv_path)\n",
    "    scores1 = df['stability'].values\n",
    "    scores2 = df['GFP'].values\n",
    "    # scores1 = np.clip(scores1, 0, 1)\n",
    "    # scores2 = np.clip(scores2, 0, 1)\n",
    "    # print(scores1.shape, scores2.shape)\n",
    "\n",
    "    r1, r2 = 0, 0\n",
    "    hv = calc_hypervolume(-scores1, -scores2, r1, r2)\n",
    "    # print(hv)\n",
    "    axs.scatter(scores1, scores2, s=2)\n",
    "    axs.scatter([r1], [r2], c='r', marker='x')\n",
    "    axs.text(r1, r2, 'ref', fontsize=8, ha='right')\n",
    "    axs.scatter([68], [wt_GFP], c='r', marker='x')\n",
    "    axs.text(68, wt_GFP, 'wt', fontsize=8, ha='left')\n",
    "    axs.set_title(f'{title}, hv={hv:.3f}')\n",
    "    axs.set_xlabel('-stability')\n",
    "    axs.set_ylabel('GFP')\n",
    "    \n",
    "    return scores1.mean().item(), scores2.mean().item()\n",
    "\n",
    "fig, axs = plt.subplots(2, 3, figsize=(9, 6))\n",
    "avg_pts_x = []\n",
    "avg_pts_y = []\n",
    "legend = []\n",
    "x, y = draw_scatter_plot('logs/GWG_2_2023_09_21__13_20_28_pareto/samples_20230921-132028/evaluation_results_2topk.csv', axs[0, 0], 'pareto')\n",
    "avg_pts_x.append(x)\n",
    "avg_pts_y.append(y)\n",
    "legend.append('pareto')\n",
    "x, y = draw_scatter_plot('logs_baseline/random_sample_GFP_2023_09_25__13_27_14_GFP/evaluation_results.csv', axs[0, 1], 'random on GFP')\n",
    "avg_pts_x.append(x)\n",
    "avg_pts_y.append(y)\n",
    "legend.append('random on GFP')\n",
    "x, y = draw_scatter_plot('logs_baseline/random_sample_stability_2023_09_25__14_16_39/evaluation_results.csv', axs[0, 2], 'random on stability')\n",
    "avg_pts_x.append(x)\n",
    "avg_pts_y.append(y)\n",
    "legend.append('random on stability')\n",
    "x, y = draw_scatter_plot('logs_baseline/simulated_annealing_GFP_2023_09_26__11_44_41/evaluation_results.csv', axs[1, 0], 'sa on GFP')\n",
    "avg_pts_x.append(x)\n",
    "avg_pts_y.append(y)\n",
    "legend.append('sa on GFP')\n",
    "x, y = draw_scatter_plot('logs_baseline/simulated_annealing_stability_2023_09_26__11_51_21/evaluation_results.csv', axs[1, 1], 'sa on stability')\n",
    "avg_pts_x.append(x)\n",
    "avg_pts_y.append(y)\n",
    "legend.append('sa on stability')\n",
    "x, y = draw_scatter_plot('logs/train_smooth_GFP_2023_09_21__17_01_05_agument/samples_20230921-194739/evaluation_results.csv', axs[1, 2], 'GWG+smooth on GFP')\n",
    "avg_pts_x.append(x)\n",
    "avg_pts_y.append(y)\n",
    "legend.append('GWG+smooth on GFP')\n",
    "\n",
    "plt.tight_layout()\n",
    "plt.show()"
   ]
  },
  {
   "cell_type": "code",
   "execution_count": 14,
   "metadata": {},
   "outputs": [
    {
     "data": {
      "image/png": "[encoded data removed]",
      "text/plain": [
       "<Figure size 800x600 with 1 Axes>"
      ]
     },
     "metadata": {},
     "output_type": "display_data"
    }
   ],
   "source": [
    "import numpy as np\n",
    "plt.figure(figsize=(8, 6), dpi=100)\n",
    "colors = plt.cm.viridis(np.linspace(0, 1, len(avg_pts_x)))\n",
    "plt.scatter(avg_pts_x, avg_pts_y, color=colors)\n",
    "for i, txt in enumerate(legend):\n",
    "    plt.annotate(txt, (avg_pts_x[i], avg_pts_y[i]), fontsize=9, ha='right', va='bottom')\n",
    "plt.xlabel('stability')\n",
    "plt.ylabel('GFP')\n",
    "plt.title('average fitness')\n",
    "\n",
    "plt.grid(True)\n",
    "plt.show()"
   ]
  },
  {
   "cell_type": "code",
   "execution_count": 2,
   "metadata": {},
   "outputs": [
    {
     "name": "stdout",
     "output_type": "stream",
     "text": [
      "51715\n",
      "                                            sequence       GFP  stability\n",
      "0  SKGEELFTGVVPILVELDGDVNGHKFSVSGEGEGDATYGKLTLKFI...  3.726358   0.920074\n",
      "1  SKGEELFTGVVPILVELDGDVNGHKFSVSGEGEGDATYGKLTLKFI...  1.301030   5.884890\n",
      "2  SKGEELFTGVVPILVELDGDVNGHKFSVSGEGEGDATYGKLTLKFI...  1.301031   9.651140\n",
      "3  SKGEELFTGVVPILVELDGDVNGHKFSVSGEGEGDATYGKLTLKFI...  1.301189  11.609100\n",
      "4  SKGEELFTGVVPILVELDGDVNGHKFSVSGEGEGDATYGKLTLKFI...  3.708478   2.208300\n",
      "51715\n",
      "                                            sequence     target\n",
      "0  SKGEELFTGVVPILVELDGDVNGHKFSVSGEGEGDATYGKLTLKFI...   0.920264\n",
      "1  SKGEELFTGVVPILVELDGDVNGHKFSVSGEGEGDATYGKLTLKFI...   6.042830\n",
      "2  SKGEELFTGVVPILVELDGDVNGHKFSVSGEGEGDATYGKLTLKFI...  10.210100\n",
      "3  SKGEELFTGVVPILVELDGDVNGHKFSVSGEGEGDATYGKLTLKFI...  12.809400\n",
      "4  SKGEELFTGVVPILVELDGDVNGHKFSVSGEGEGDATYGKLTLKFI...   2.212400\n",
      "True\n"
     ]
    }
   ],
   "source": [
    "import pandas as pd\n",
    "\n",
    "gt_GFP_stability = pd.read_csv('data/ground_truth_GFP_stability_old.csv')\n",
    "print(len(gt_GFP_stability))\n",
    "print(gt_GFP_stability.head())\n",
    "new_stability = pd.read_csv('data/stability/Stability_foldx_deduplicate_new.csv')\n",
    "print(len(new_stability))\n",
    "print(new_stability.head())\n",
    "print(gt_GFP_stability['sequence'].tolist() == new_stability['sequence'].tolist())\n",
    "gt_GFP_stability['stability'] = new_stability['target']\n",
    "gt_GFP_stability.to_csv('data/ground_truth_GFP_stability.csv', index=False)"
   ]
  },
  {
   "cell_type": "code",
   "execution_count": 5,
   "metadata": {},
   "outputs": [
    {
     "name": "stdout",
     "output_type": "stream",
     "text": [
      "8.83916454889249 8.83554 1.2680385262459613 11.0905 6.60549\n",
      "1.5171734332921394 1.5199353690000001 0.11860088947475589 1.746472478 1.303563833\n"
     ]
    }
   ],
   "source": [
    "import pandas as pd\n",
    "import numpy as np\n",
    "data = pd.read_csv('data/GFP_stability_percentile_0.2_0.4.csv')\n",
    "data.head()\n",
    "stability = data['stability'].tolist()\n",
    "print(np.mean(stability), np.median(stability), np.std(stability), np.max(stability), np.min(stability))\n",
    "GFP = data['GFP'].tolist()\n",
    "print(np.mean(GFP), np.median(GFP), np.std(GFP), np.max(GFP), np.min(GFP))"
   ]
  },
  {
   "cell_type": "code",
   "execution_count": null,
   "metadata": {},
   "outputs": [],
   "source": []
  }
 ],
 "metadata": {
  "kernelspec": {
   "display_name": "proj2",
   "language": "python",
   "name": "python3"
  },
  "language_info": {
   "codemirror_mode": {
    "name": "ipython",
    "version": 3
   },
   "file_extension": ".py",
   "mimetype": "text/x-python",
   "name": "python",
   "nbconvert_exporter": "python",
   "pygments_lexer": "ipython3",
   "version": "3.8.17"
  },
  "orig_nbformat": 4
 },
 "nbformat": 4,
 "nbformat_minor": 2
}
