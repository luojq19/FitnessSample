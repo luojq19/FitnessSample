{
 "cells": [
  {
   "cell_type": "code",
   "execution_count": 3,
   "metadata": {},
   "outputs": [
    {
     "name": "stdout",
     "output_type": "stream",
     "text": [
      "gb1_stats: [0.08050968517384413, 0.00338374487421, 0.00137041667406, 0.00898633884627, 0.0, 8.76196565571]\n",
      "ddg_stats: [27.065790811134967, 24.5459, 17.8009, 34.0362, -2.50515, 116.583]\n",
      "ratio: [336.18055706828255, 7254.063445232617, 12989.407044547266, 3787.549143456521, -inf, 13.305576006683518]\n"
     ]
    },
    {
     "name": "stderr",
     "output_type": "stream",
     "text": [
      "/tmp/ipykernel_1572274/1127697156.py:12: RuntimeWarning: divide by zero encountered in scalar divide\n",
      "  ratio = [ddg_stats[i]/gb1_stats[i] for i in range(len(gb1_stats))]\n"
     ]
    }
   ],
   "source": [
    "import pandas as pd\n",
    "import numpy as np\n",
    "\n",
    "# df = pd.read_csv('data/gb1/gb1_ddg_percentile_0.0_0.4_99value.csv')\n",
    "df = pd.read_csv('data/gb1/ground_truth_gb1_ddg.csv')\n",
    "gb1 = df['gb1'].values\n",
    "ddg = df['ddg'].values\n",
    "gb1_stats = [np.mean(gb1), np.median(gb1), np.quantile(gb1, 0.25), np.quantile(gb1, 0.75), np.min(gb1), np.max(gb1)]\n",
    "ddg_stats = [np.mean(ddg), np.median(ddg), np.quantile(ddg, 0.25), np.quantile(ddg, 0.75), np.min(ddg), np.max(ddg)]\n",
    "print('gb1_stats:', gb1_stats)\n",
    "print('ddg_stats:', ddg_stats)\n",
    "ratio = [ddg_stats[i]/gb1_stats[i] for i in range(len(gb1_stats))]\n",
    "print('ratio:', ratio)"
   ]
  },
  {
   "cell_type": "code",
   "execution_count": 5,
   "metadata": {},
   "outputs": [
    {
     "data": {
      "image/png": "[encoded data removed]",
      "text/plain": [
       "<Figure size 600x600 with 1 Axes>"
      ]
     },
     "metadata": {},
     "output_type": "display_data"
    }
   ],
   "source": [
    "import matplotlib.pyplot as plt\n",
    "import pandas as pd\n",
    "\n",
    "def load_metric_point_label(csv_path, label):\n",
    "    df = pd.read_csv(csv_path)\n",
    "    metrics = df['mean'].values[:2]\n",
    "    x = metrics[0]\n",
    "    y = metrics[1]\n",
    "    \n",
    "    return x, y, label\n",
    "\n",
    "gb1_ddg_labels = []\n",
    "gb1_ddg_labels.append(load_metric_point_label('logs_new/train_predictor_gb1_0_0.4_2023_10_05__15_12_17_augment/samples_20231005-163504/evaluation_metrics.csv', \n",
    "                                              'GWG_GB1'))\n",
    "gb1_ddg_labels.append(load_metric_point_label('logs_new/train_predictor_ddg_0_0.4_2023_10_05__15_12_56_agument/samples_20231005-163745/evaluation_metrics.csv', \n",
    "                                              'GWG_DDG'))\n",
    "gb1_ddg_labels.append(load_metric_point_label('logs_new/GWG_2_gb1_ddg_2023_10_05__21_58_09_debug/samples_20231005-215809/evaluation_metrics.csv', \n",
    "                                              'pareto_la1'))\n",
    "gb1_ddg_labels.append(load_metric_point_label('logs_new/GWG_2_gb1_ddg_2023_10_06__10_33_21_lambda5/samples_20231006-103321/evaluation_metrics.csv',\n",
    "                                              'pareto_la5'))\n",
    "gb1_ddg_labels.append(load_metric_point_label('logs_new/GWG_2_gb1_ddg_2023_10_06__10_36_17_lambda0.5/samples_20231006-103617/evaluation_metrics.csv',\n",
    "                                              'pareto_la0.5'))\n",
    "gb1_ddg_labels.append(load_metric_point_label('logs_new/GWG_2_gb1_ddg_2023_10_06__10_40_58_lambda2.0/samples_20231006-104058/evaluation_metrics.csv',\n",
    "                                              'pareto_la2.0'))\n",
    "gb1, ddg, labels = zip(*gb1_ddg_labels)\n",
    "\n",
    "plt.figure(figsize=(6, 6), dpi=100)\n",
    "plt.scatter(gb1, ddg, c='r', marker='o', s=100)\n",
    "for i in range(len(labels)):\n",
    "    plt.annotate(labels[i], (gb1[i], ddg[i]), xytext=(gb1[i]+0.01, ddg[i]+0.01))\n",
    "plt.xlabel('GB1')\n",
    "plt.ylabel('DDG')\n",
    "plt.title('GB1 vs DDG')\n",
    "plt.show()"
   ]
  },
  {
   "cell_type": "code",
   "execution_count": 7,
   "metadata": {},
   "outputs": [
    {
     "data": {
      "text/plain": [
       "('D', 'K', 'E')"
      ]
     },
     "execution_count": 7,
     "metadata": {},
     "output_type": "execute_result"
    }
   ],
   "source": [
    "wt = 'MANVEKMSVAVTPQQAAVMREAVEAGEYATASEIVREAVRDWLAKRELRHDDIRRLRQLWDEGKASGRPEPVDFDALRKEARQKLTEVPPNGR'\n",
    "wt[60], wt[63], wt[79]"
   ]
  },
  {
   "cell_type": "code",
   "execution_count": 5,
   "metadata": {},
   "outputs": [
    {
     "name": "stdout",
     "output_type": "stream",
     "text": [
      "9261 8000\n"
     ]
    }
   ],
   "source": [
    "csv_path = '/work/kerr/p450/mutation/results/ParD3/df_gt.csv'\n",
    "import pandas as pd\n",
    "df = pd.read_csv(csv_path)\n",
    "mutations = df['full_mut'].tolist()\n",
    "seqs = []\n",
    "for muts in mutations:\n",
    "    muts = muts.split(':')\n",
    "    muts = [m[-1] for m in muts]\n",
    "    muts[0] = muts[0] if muts[0] != '_' else 'D'\n",
    "    muts[1] = muts[1] if muts[1] != '_' else 'K'\n",
    "    muts[2] = muts[2] if muts[2] != '_' else 'E'\n",
    "    seqs.append(''.join(muts))\n",
    "print(len(seqs), len(set(seqs)))"
   ]
  },
  {
   "cell_type": "code",
   "execution_count": 9,
   "metadata": {},
   "outputs": [
    {
     "data": {
      "text/plain": [
       "8000"
      ]
     },
     "execution_count": 9,
     "metadata": {},
     "output_type": "execute_result"
    }
   ],
   "source": [
    "import pandas as pd\n",
    "\n",
    "df = pd.read_csv('data/ParD3/ground_truth_ParD3.csv')\n",
    "seqs = df['sequence'].tolist()\n",
    "len(set(seqs))"
   ]
  },
  {
   "cell_type": "code",
   "execution_count": null,
   "metadata": {},
   "outputs": [],
   "source": []
  }
 ],
 "metadata": {
  "kernelspec": {
   "display_name": "pytorch",
   "language": "python",
   "name": "python3"
  },
  "language_info": {
   "codemirror_mode": {
    "name": "ipython",
    "version": 3
   },
   "file_extension": ".py",
   "mimetype": "text/x-python",
   "name": "python",
   "nbconvert_exporter": "python",
   "pygments_lexer": "ipython3",
   "version": "3.8.17"
  },
  "orig_nbformat": 4
 },
 "nbformat": 4,
 "nbformat_minor": 2
}
